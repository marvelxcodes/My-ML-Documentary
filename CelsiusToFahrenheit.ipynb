{
  "nbformat": 4,
  "nbformat_minor": 0,
  "metadata": {
    "colab": {
      "provenance": [],
      "toc_visible": true,
      "authorship_tag": "ABX9TyMela7Gg/mjCdaPgamMMp1j",
      "include_colab_link": true
    },
    "kernelspec": {
      "name": "python3",
      "display_name": "Python 3"
    },
    "language_info": {
      "name": "python"
    }
  },
  "cells": [
    {
      "cell_type": "markdown",
      "metadata": {
        "id": "view-in-github",
        "colab_type": "text"
      },
      "source": [
        "<a href=\"https://colab.research.google.com/github/marvelxcodes/My-ML-Documentary/blob/main/CelsiusToFahrenheit.ipynb\" target=\"_parent\"><img src=\"https://colab.research.google.com/assets/colab-badge.svg\" alt=\"Open In Colab\"/></a>"
      ]
    },
    {
      "cell_type": "markdown",
      "source": [
        "# **Celsius To Fahrenheit Model**"
      ],
      "metadata": {
        "id": "A8_ztiblqA__"
      }
    },
    {
      "cell_type": "markdown",
      "source": [
        "The formula we're about derive from this model is\n",
        "\n",
        "\n",
        "> ***f = c x 1.8 + 32***\n",
        "\n"
      ],
      "metadata": {
        "id": "GquYMLhLQVqV"
      }
    },
    {
      "cell_type": "code",
      "execution_count": 1,
      "metadata": {
        "id": "LCtMAblApavl"
      },
      "outputs": [],
      "source": [
        "# Importing Dependencies\n",
        "import tensorflow as tf\n",
        "import numpy as np"
      ]
    },
    {
      "cell_type": "code",
      "source": [
        "# Training set\n",
        "celsius_q = np.array([-40, -10, 0, 8, 15, 22, 38], dtype=float)\n",
        "fahrenheit_a = np.array([-40, 14, 31, 46, 59, 72, 100], dtype=float)\n",
        "\n",
        "for i, c in enumerate(celsius_q):\n",
        "  print(f\"{c}° Celsius = {fahrenheit_a[i]}° Fahrenheit\")"
      ],
      "metadata": {
        "colab": {
          "base_uri": "https://localhost:8080/"
        },
        "id": "jZzd26pTrefX",
        "outputId": "f78e0766-0c56-4e19-9dae-fa1771348532"
      },
      "execution_count": 7,
      "outputs": [
        {
          "output_type": "stream",
          "name": "stdout",
          "text": [
            "-40.0° Celsius = -40.0° Fahrenheit\n",
            "-10.0° Celsius = 14.0° Fahrenheit\n",
            "0.0° Celsius = 31.0° Fahrenheit\n",
            "8.0° Celsius = 46.0° Fahrenheit\n",
            "15.0° Celsius = 59.0° Fahrenheit\n",
            "22.0° Celsius = 72.0° Fahrenheit\n",
            "38.0° Celsius = 100.0° Fahrenheit\n"
          ]
        }
      ]
    }
  ]
}