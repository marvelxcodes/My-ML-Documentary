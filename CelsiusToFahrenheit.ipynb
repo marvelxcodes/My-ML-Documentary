{
  "nbformat": 4,
  "nbformat_minor": 0,
  "metadata": {
    "colab": {
      "provenance": [],
      "authorship_tag": "ABX9TyNdUN1CkHI9ANRbrUwev6C0",
      "include_colab_link": true
    },
    "kernelspec": {
      "name": "python3",
      "display_name": "Python 3"
    },
    "language_info": {
      "name": "python"
    }
  },
  "cells": [
    {
      "cell_type": "markdown",
      "metadata": {
        "id": "view-in-github",
        "colab_type": "text"
      },
      "source": [
        "<a href=\"https://colab.research.google.com/github/marvelxcodes/My-ML-Documentary/blob/main/CelsiusToFahrenheit.ipynb\" target=\"_parent\"><img src=\"https://colab.research.google.com/assets/colab-badge.svg\" alt=\"Open In Colab\"/></a>"
      ]
    },
    {
      "cell_type": "markdown",
      "source": [
        "# **Celsius To Fahrenheit Model**"
      ],
      "metadata": {
        "id": "A8_ztiblqA__"
      }
    },
    {
      "cell_type": "markdown",
      "source": [
        "## **Introduction**"
      ],
      "metadata": {
        "id": "qoDNQAQKYlbM"
      }
    },
    {
      "cell_type": "markdown",
      "source": [
        "The formula we're about to derive from this model is\n",
        "\n",
        "\n",
        "> ***f = c x 1.8 + 32***\n",
        "\n"
      ],
      "metadata": {
        "id": "GquYMLhLQVqV"
      }
    },
    {
      "cell_type": "code",
      "execution_count": 14,
      "metadata": {
        "id": "LCtMAblApavl"
      },
      "outputs": [],
      "source": [
        "# Importing Dependencies\n",
        "import tensorflow as tf\n",
        "import numpy as np\n",
        "import matplotlib.pyplot as plt"
      ]
    },
    {
      "cell_type": "code",
      "source": [
        "# Training set\n",
        "celsius_q = np.array([-40, -10, 0, 8, 15, 22, 38], dtype=float)\n",
        "fahrenheit_a = np.array([-40, 14, 31, 46, 59, 72, 100], dtype=float)\n",
        "\n",
        "for i, c in enumerate(celsius_q):\n",
        "  print(f\"{c}° Celsius = {fahrenheit_a[i]}° Fahrenheit\")"
      ],
      "metadata": {
        "colab": {
          "base_uri": "https://localhost:8080/"
        },
        "id": "jZzd26pTrefX",
        "outputId": "f78e0766-0c56-4e19-9dae-fa1771348532"
      },
      "execution_count": 7,
      "outputs": [
        {
          "output_type": "stream",
          "name": "stdout",
          "text": [
            "-40.0° Celsius = -40.0° Fahrenheit\n",
            "-10.0° Celsius = 14.0° Fahrenheit\n",
            "0.0° Celsius = 31.0° Fahrenheit\n",
            "8.0° Celsius = 46.0° Fahrenheit\n",
            "15.0° Celsius = 59.0° Fahrenheit\n",
            "22.0° Celsius = 72.0° Fahrenheit\n",
            "38.0° Celsius = 100.0° Fahrenheit\n"
          ]
        }
      ]
    },
    {
      "cell_type": "markdown",
      "source": [
        "## **Model**\n",
        "* **`units`** specifies the number of neurons in the layer.\n",
        "\n",
        "* **`input_shape`** specifies the number of input variables in our model."
      ],
      "metadata": {
        "id": "6yk-W849W5FM"
      }
    },
    {
      "cell_type": "code",
      "source": [
        "# Layer 0\n",
        "l0 = tf.keras.layers.Dense(units=1, input_shape=[1])\n",
        "model = tf.keras.Sequential([l0])"
      ],
      "metadata": {
        "id": "MFeos-wTV8SP"
      },
      "execution_count": 8,
      "outputs": []
    },
    {
      "cell_type": "markdown",
      "source": [
        "## **Compiling our Model**"
      ],
      "metadata": {
        "id": "mdn-LGI5X-Zx"
      }
    },
    {
      "cell_type": "markdown",
      "source": [
        "\n",
        "\n",
        "*   **Loss Function** measures how far off predictions are from the desired outcome.\n",
        "*   **Optimizer Function** adjust the internal values in order to reduce the loss.\n",
        "\n"
      ],
      "metadata": {
        "id": "4JhN10gdYGGk"
      }
    },
    {
      "cell_type": "code",
      "source": [
        "optimizer = tf.keras.optimizers.Adam(learning_rate=0.1)\n",
        "loss_function = \"mean_squared_error\"\n",
        "\n",
        "model.compile(loss=loss_function, optimizer=optimizer)"
      ],
      "metadata": {
        "id": "gF83duV6Y5ec"
      },
      "execution_count": 9,
      "outputs": []
    },
    {
      "cell_type": "markdown",
      "source": [
        "## **Training the Model**"
      ],
      "metadata": {
        "id": "s0rcTyQ5ZlfM"
      }
    },
    {
      "cell_type": "code",
      "source": [
        "history = model.fit(celsius_q, fahrenheit_a, epochs=500, verbose=False)"
      ],
      "metadata": {
        "id": "g8BJ9GDhZwUG"
      },
      "execution_count": 12,
      "outputs": []
    },
    {
      "cell_type": "markdown",
      "source": [
        "## **Display training statistics**"
      ],
      "metadata": {
        "id": "J8whoYWLaabR"
      }
    },
    {
      "cell_type": "code",
      "source": [
        "plt.xlabel('Epoch Number')\n",
        "plt.ylabel('Loss Magnitude')\n",
        "plt.plot(history.history[\"loss\"])"
      ],
      "metadata": {
        "colab": {
          "base_uri": "https://localhost:8080/",
          "height": 297
        },
        "id": "LE-oKEc2alRF",
        "outputId": "438a6761-b6e2-430c-e7c1-b2022da27fd1"
      },
      "execution_count": 15,
      "outputs": [
        {
          "output_type": "execute_result",
          "data": {
            "text/plain": [
              "[<matplotlib.lines.Line2D at 0x7fea16c887c0>]"
            ]
          },
          "metadata": {},
          "execution_count": 15
        },
        {
          "output_type": "display_data",
          "data": {
            "text/plain": [
              "<Figure size 432x288 with 1 Axes>"
            ],
            "image/png": "[encoded data removed]"
          },
          "metadata": {
            "needs_background": "light"
          }
        }
      ]
    },
    {
      "cell_type": "markdown",
      "source": [
        "## **Predicting Values with our Model**"
      ],
      "metadata": {
        "id": "oAMvaJ9Xburo"
      }
    },
    {
      "cell_type": "code",
      "source": [
        "print(\"Actual value is 212\")\n",
        "print(f\"Predicted value is {model.predict([100.0])}\")"
      ],
      "metadata": {
        "colab": {
          "base_uri": "https://localhost:8080/"
        },
        "id": "LMvdWbfbb3ji",
        "outputId": "dd107fb3-9dfb-4486-9906-89be078c0ff6"
      },
      "execution_count": 17,
      "outputs": [
        {
          "output_type": "stream",
          "name": "stdout",
          "text": [
            "Actual value is 212\n",
            "1/1 [==============================] - 0s 40ms/step\n",
            "Predicted value is [[211.724]]\n"
          ]
        }
      ]
    },
    {
      "cell_type": "markdown",
      "source": [
        "## **Looking at the layer weights of Dense Layer**"
      ],
      "metadata": {
        "id": "lCyJtB8HctyO"
      }
    },
    {
      "cell_type": "code",
      "source": [
        "print(f\"The layer variables : {l0.get_weights()}\")\n",
        "print(\"We're so close to the actual values: 1.8, 32\")"
      ],
      "metadata": {
        "colab": {
          "base_uri": "https://localhost:8080/"
        },
        "id": "7yoSse6xc0h3",
        "outputId": "8a75ba9a-5fc4-4a45-c3fa-e7b089b50d6b"
      },
      "execution_count": 19,
      "outputs": [
        {
          "output_type": "stream",
          "name": "stdout",
          "text": [
            "The layer variables : [array([[1.7992029]], dtype=float32), array([31.803713], dtype=float32)]\n",
            "We're so close to the actual values: 1.8, 32\n"
          ]
        }
      ]
    },
    {
      "cell_type": "markdown",
      "source": [
        "**THE END OF FILE**"
      ],
      "metadata": {
        "id": "9ZJqLH1VdcNH"
      }
    }
  ]
}