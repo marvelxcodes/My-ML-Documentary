{
  "nbformat": 4,
  "nbformat_minor": 0,
  "metadata": {
    "colab": {
      "provenance": [],
      "authorship_tag": "ABX9TyM8aKOa4yaPbJvaK7x1TOxv",
      "include_colab_link": true
    },
    "kernelspec": {
      "name": "python3",
      "display_name": "Python 3"
    },
    "language_info": {
      "name": "python"
    },
    "gpuClass": "standard"
  },
  "cells": [
    {
      "cell_type": "markdown",
      "metadata": {
        "id": "view-in-github",
        "colab_type": "text"
      },
      "source": [
        "<a href=\"https://colab.research.google.com/github/marvelxcodes/My-ML-Documentation/blob/main/PyTorch.ipynb\" target=\"_parent\"><img src=\"https://colab.research.google.com/assets/colab-badge.svg\" alt=\"Open In Colab\"/></a>"
      ]
    },
    {
      "cell_type": "markdown",
      "source": [
        "# **My Pytorch Notebook**"
      ],
      "metadata": {
        "id": "QZFcJBy-_QAG"
      }
    },
    {
      "cell_type": "markdown",
      "source": [
        "## 1. Importing Required Packages"
      ],
      "metadata": {
        "id": "WSK1pg73_jvo"
      }
    },
    {
      "cell_type": "code",
      "execution_count": 39,
      "metadata": {
        "colab": {
          "base_uri": "https://localhost:8080/"
        },
        "id": "rRVZYe8n-f8L",
        "outputId": "0154b9cc-d3b3-477b-d4ac-80e2f13058d6"
      },
      "outputs": [
        {
          "output_type": "stream",
          "name": "stdout",
          "text": [
            "1.13.0+cu116\n"
          ]
        }
      ],
      "source": [
        "import torch\n",
        "import pandas as pd\n",
        "import numpy as np\n",
        "import matplotlib.pyplot as plt\n",
        "\n",
        "print(torch.__version__) # Prints version of PyTorch"
      ]
    },
    {
      "cell_type": "markdown",
      "source": [
        "## 2. Creating Tensors"
      ],
      "metadata": {
        "id": "MgBolN9nx1xR"
      }
    },
    {
      "cell_type": "markdown",
      "source": [
        "### 2.1 Creating Tensors - `torch.tensor()`"
      ],
      "metadata": {
        "id": "syhQyEoQJmlI"
      }
    },
    {
      "cell_type": "code",
      "source": [
        "# Scalar - 0 dimension\n",
        "scalar = torch.tensor(46)\n",
        "print(scalar)\n",
        "print(scalar.item())\n",
        "print(scalar.ndim)\n",
        "print(scalar.shape)\n",
        "print(scalar.dtype)"
      ],
      "metadata": {
        "id": "nxShuHnw_kXI",
        "colab": {
          "base_uri": "https://localhost:8080/"
        },
        "outputId": "bdf57ca4-5e0f-4e1c-eb3c-7393560fe398"
      },
      "execution_count": 40,
      "outputs": [
        {
          "output_type": "stream",
          "name": "stdout",
          "text": [
            "tensor(46)\n",
            "46\n",
            "0\n",
            "torch.Size([])\n",
            "torch.int64\n"
          ]
        }
      ]
    },
    {
      "cell_type": "code",
      "source": [
        "# Vector - 1 dimension\n",
        "vector = torch.tensor([1, 2])\n",
        "print(vector)\n",
        "print(vector.ndim)\n",
        "print(vector.shape)"
      ],
      "metadata": {
        "colab": {
          "base_uri": "https://localhost:8080/"
        },
        "id": "_We_Ygnmx1Vl",
        "outputId": "84c8b23c-fa0c-49a5-a5ef-6b39b27c92ea"
      },
      "execution_count": 41,
      "outputs": [
        {
          "output_type": "stream",
          "name": "stdout",
          "text": [
            "tensor([1, 2])\n",
            "1\n",
            "torch.Size([2])\n"
          ]
        }
      ]
    },
    {
      "cell_type": "code",
      "source": [
        "# Matrix - 2 dimension\n",
        "MATRIX = torch.tensor([[1, 2, 3],\n",
        "                       [4, 5, 6],\n",
        "                       [7, 8, 9]])\n",
        "print(MATRIX)\n",
        "print(MATRIX.ndim)\n",
        "print(MATRIX.shape)"
      ],
      "metadata": {
        "colab": {
          "base_uri": "https://localhost:8080/"
        },
        "id": "t924ZyHWGzZj",
        "outputId": "bd12141b-d4da-48b0-97e3-b82b1c5d1808"
      },
      "execution_count": 42,
      "outputs": [
        {
          "output_type": "stream",
          "name": "stdout",
          "text": [
            "tensor([[1, 2, 3],\n",
            "        [4, 5, 6],\n",
            "        [7, 8, 9]])\n",
            "2\n",
            "torch.Size([3, 3])\n"
          ]
        }
      ]
    },
    {
      "cell_type": "code",
      "source": [
        "# Tensor - 3 dimension\n",
        "TENSOR = torch.tensor([[[1, 2, 3],\n",
        "                       [4, 5, 6],\n",
        "                       [7, 8, 9]]])\n",
        "print(TENSOR)\n",
        "print(TENSOR.ndim)\n",
        "print(TENSOR.shape)\n",
        "print(TENSOR.dtype)"
      ],
      "metadata": {
        "colab": {
          "base_uri": "https://localhost:8080/"
        },
        "id": "155OoApKHlyE",
        "outputId": "c1514e55-083a-4f3b-c0f5-65b1df351b7c"
      },
      "execution_count": 43,
      "outputs": [
        {
          "output_type": "stream",
          "name": "stdout",
          "text": [
            "tensor([[[1, 2, 3],\n",
            "         [4, 5, 6],\n",
            "         [7, 8, 9]]])\n",
            "3\n",
            "torch.Size([1, 3, 3])\n",
            "torch.int64\n"
          ]
        }
      ]
    },
    {
      "cell_type": "markdown",
      "source": [
        "### 2.2 Random Tensors - `torch.rand()`"
      ],
      "metadata": {
        "id": "2yWCgk7CJ5z6"
      }
    },
    {
      "cell_type": "code",
      "source": [
        "RANDOM_TENSOR = torch.rand(4, 3)\n",
        "print(RANDOM_TENSOR)\n",
        "print(RANDOM_TENSOR.ndim)\n",
        "print(RANDOM_TENSOR.shape)"
      ],
      "metadata": {
        "colab": {
          "base_uri": "https://localhost:8080/"
        },
        "id": "cs7lkTNRKSC2",
        "outputId": "70c9edb4-ebcb-4fd7-94d6-dd6955df1fc5"
      },
      "execution_count": 44,
      "outputs": [
        {
          "output_type": "stream",
          "name": "stdout",
          "text": [
            "tensor([[0.3877, 0.7956, 0.6423],\n",
            "        [0.2403, 0.8434, 0.9984],\n",
            "        [0.6953, 0.4697, 0.9120],\n",
            "        [0.7909, 0.2537, 0.9592]])\n",
            "2\n",
            "torch.Size([4, 3])\n"
          ]
        }
      ]
    },
    {
      "cell_type": "markdown",
      "source": [
        "### 2.3 Tensors with zeros - `torch.zeros()`"
      ],
      "metadata": {
        "id": "VBt-xlnINiB8"
      }
    },
    {
      "cell_type": "code",
      "source": [
        "zeros = torch.zeros(3, 4)\n",
        "print(zeros)"
      ],
      "metadata": {
        "colab": {
          "base_uri": "https://localhost:8080/"
        },
        "id": "PcjRivhRK4RO",
        "outputId": "f0e8489c-7dc2-4dff-cf68-fedca123a9d3"
      },
      "execution_count": 45,
      "outputs": [
        {
          "output_type": "stream",
          "name": "stdout",
          "text": [
            "tensor([[0., 0., 0., 0.],\n",
            "        [0., 0., 0., 0.],\n",
            "        [0., 0., 0., 0.]])\n"
          ]
        }
      ]
    },
    {
      "cell_type": "markdown",
      "source": [
        "### 2.4 Tensors with ones - `torch.ones()`"
      ],
      "metadata": {
        "id": "aHvcAqWQN-ej"
      }
    },
    {
      "cell_type": "code",
      "source": [
        "ones = torch.ones(3, 4)\n",
        "print(ones)\n",
        "print(ones.dtype)"
      ],
      "metadata": {
        "colab": {
          "base_uri": "https://localhost:8080/"
        },
        "id": "J84-h-N4OOlL",
        "outputId": "e53384f4-ce32-4a2c-9ea3-b37debeed7ec"
      },
      "execution_count": 46,
      "outputs": [
        {
          "output_type": "stream",
          "name": "stdout",
          "text": [
            "tensor([[1., 1., 1., 1.],\n",
            "        [1., 1., 1., 1.],\n",
            "        [1., 1., 1., 1.]])\n",
            "torch.float32\n"
          ]
        }
      ]
    },
    {
      "cell_type": "markdown",
      "source": [
        "### 2.5 Range of Tensors - `torch.arange()`"
      ],
      "metadata": {
        "id": "aq08OV5ZTBAz"
      }
    },
    {
      "cell_type": "code",
      "source": [
        "TENSOR_RANGE = torch.arange(1, 11, 2)\n",
        "print(TENSOR_RANGE)"
      ],
      "metadata": {
        "colab": {
          "base_uri": "https://localhost:8080/"
        },
        "id": "UbwAPpLhUToQ",
        "outputId": "7fb566a7-3a87-4d84-f044-d1287d260a09"
      },
      "execution_count": 47,
      "outputs": [
        {
          "output_type": "stream",
          "name": "stdout",
          "text": [
            "tensor([1, 3, 5, 7, 9])\n"
          ]
        }
      ]
    },
    {
      "cell_type": "markdown",
      "source": [
        "### 2.6 Tensors Like - **torch.zeros_like/ones_like**"
      ],
      "metadata": {
        "id": "jwzTe8RXVYRQ"
      }
    },
    {
      "cell_type": "code",
      "source": [
        "ZEROS_LIKE = torch.zeros_like(TENSOR_RANGE)\n",
        "print(ZEROS_LIKE)"
      ],
      "metadata": {
        "colab": {
          "base_uri": "https://localhost:8080/"
        },
        "id": "vBTojosEVuKf",
        "outputId": "90582600-9e74-499b-f7bd-c8ea667d3c3e"
      },
      "execution_count": 48,
      "outputs": [
        {
          "output_type": "stream",
          "name": "stdout",
          "text": [
            "tensor([0, 0, 0, 0, 0])\n"
          ]
        }
      ]
    },
    {
      "cell_type": "markdown",
      "source": [
        "## 3. Tensor Datatypes"
      ],
      "metadata": {
        "id": "ZmlLfA3IXtuy"
      }
    },
    {
      "cell_type": "markdown",
      "source": [
        "### 3.1 Creating Tensor with explicit datatype - `torch.tensor(dtype=torch.float32)`"
      ],
      "metadata": {
        "id": "8Gl-yPUtd7xI"
      }
    },
    {
      "cell_type": "code",
      "source": [
        "float32_tensor = torch.tensor([[1, 2, 3],\n",
        "                               [4, 5, 6],\n",
        "                               [7, 8, 9]],\n",
        "                              dtype=torch.float32,\n",
        "                              device=None, # cpu / cuda(gpu)\n",
        "                              requires_grad=False)\n",
        "print(float32_tensor)\n",
        "print(float32_tensor.dtype)"
      ],
      "metadata": {
        "colab": {
          "base_uri": "https://localhost:8080/"
        },
        "id": "-dajpdneXy1G",
        "outputId": "30783bd8-bcdd-4aca-9a49-3001360ed30c"
      },
      "execution_count": 49,
      "outputs": [
        {
          "output_type": "stream",
          "name": "stdout",
          "text": [
            "tensor([[1., 2., 3.],\n",
            "        [4., 5., 6.],\n",
            "        [7., 8., 9.]])\n",
            "torch.float32\n"
          ]
        }
      ]
    },
    {
      "cell_type": "markdown",
      "source": [
        "### 3.2 Type Conversion - `torch.tensor().type(torch.float16)`"
      ],
      "metadata": {
        "id": "_aQxichReQFO"
      }
    },
    {
      "cell_type": "code",
      "source": [
        "float16_tensor = float32_tensor.type(torch.float16)\n",
        "int64_tensor = float32_tensor.type(torch.int64)\n",
        "long_tensor = float32_tensor.type(torch.long)\n",
        "\n",
        "print(float16_tensor.dtype)\n",
        "print(int64_tensor.dtype)\n",
        "print(long_tensor.dtype)"
      ],
      "metadata": {
        "colab": {
          "base_uri": "https://localhost:8080/"
        },
        "id": "hxm-4BrReg2R",
        "outputId": "df34bd2e-72c8-46cc-851d-d6fdbfff20c2"
      },
      "execution_count": 50,
      "outputs": [
        {
          "output_type": "stream",
          "name": "stdout",
          "text": [
            "torch.float16\n",
            "torch.int64\n",
            "torch.int64\n"
          ]
        }
      ]
    },
    {
      "cell_type": "markdown",
      "source": [
        "### 3.3 Multiplying different DataTypes"
      ],
      "metadata": {
        "id": "cXED4WBZhgUe"
      }
    },
    {
      "cell_type": "code",
      "source": [
        "print(float32_tensor*float16_tensor)\n",
        "print(long_tensor*int64_tensor)\n",
        "print(long_tensor*float32_tensor)"
      ],
      "metadata": {
        "colab": {
          "base_uri": "https://localhost:8080/"
        },
        "id": "Ne2ai5-yhrfW",
        "outputId": "bd35a42c-8dbf-4332-d05c-3b84f1dc2025"
      },
      "execution_count": 52,
      "outputs": [
        {
          "output_type": "stream",
          "name": "stdout",
          "text": [
            "tensor([[ 1.,  4.,  9.],\n",
            "        [16., 25., 36.],\n",
            "        [49., 64., 81.]])\n",
            "tensor([[ 1,  4,  9],\n",
            "        [16, 25, 36],\n",
            "        [49, 64, 81]])\n",
            "tensor([[ 1.,  4.,  9.],\n",
            "        [16., 25., 36.],\n",
            "        [49., 64., 81.]])\n"
          ]
        }
      ]
    },
    {
      "cell_type": "markdown",
      "source": [
        "## 4. Getting info of Tensor"
      ],
      "metadata": {
        "id": "t0FmHKOb5JCe"
      }
    },
    {
      "cell_type": "code",
      "source": [
        "RANDOM_TENSOR = torch.rand(3, 4)\n",
        "print(f\"Shape of Tensor : {RANDOM_TENSOR.shape}\")\n",
        "print(f\"Device of Tensor : {RANDOM_TENSOR.device}\")\n",
        "print(f\"Dtype of Tensor : {RANDOM_TENSOR.dtype}\")"
      ],
      "metadata": {
        "colab": {
          "base_uri": "https://localhost:8080/"
        },
        "id": "14k0EjX95Pdd",
        "outputId": "beae793d-9c33-4881-8d18-6dcf28343f8e"
      },
      "execution_count": 58,
      "outputs": [
        {
          "output_type": "stream",
          "name": "stdout",
          "text": [
            "Shape of Tensor : torch.Size([3, 4])\n",
            "Device of Tensor : cpu\n",
            "Dtype of Tensor : torch.float32\n"
          ]
        }
      ]
    },
    {
      "cell_type": "markdown",
      "source": [
        "## 5. Manipulating Tensors\n"
      ],
      "metadata": {
        "id": "L0ADs_Mf-HuJ"
      }
    },
    {
      "cell_type": "code",
      "source": [
        "tensor = torch.tensor([[\n",
        "          [1, 2, 3],\n",
        "          [4, 5, 6],\n",
        "          [7, 8, 9]\n",
        "        ]])"
      ],
      "metadata": {
        "id": "f9kq3ALi_Wrr"
      },
      "execution_count": 68,
      "outputs": []
    },
    {
      "cell_type": "markdown",
      "source": [
        "### 5.1 Addition"
      ],
      "metadata": {
        "id": "DDryU1W3_voi"
      }
    },
    {
      "cell_type": "code",
      "source": [
        "# 5.1 Addition\n",
        "print(tensor + 10)\n",
        "print(tensor + tensor)\n",
        "print(tensor + 2 + 3)\n",
        "print(tensor + np.array([1, 2, 3])) # Normal list can't be added"
      ],
      "metadata": {
        "colab": {
          "base_uri": "https://localhost:8080/"
        },
        "id": "kXRfXYzn-n0r",
        "outputId": "66dae245-f8ee-4e28-c792-21f5062dcd9e"
      },
      "execution_count": 74,
      "outputs": [
        {
          "output_type": "stream",
          "name": "stdout",
          "text": [
            "tensor([[[11, 12, 13],\n",
            "         [14, 15, 16],\n",
            "         [17, 18, 19]]])\n",
            "tensor([[[ 2,  4,  6],\n",
            "         [ 8, 10, 12],\n",
            "         [14, 16, 18]]])\n",
            "tensor([[[ 6,  7,  8],\n",
            "         [ 9, 10, 11],\n",
            "         [12, 13, 14]]])\n",
            "tensor([[[ 2,  4,  6],\n",
            "         [ 5,  7,  9],\n",
            "         [ 8, 10, 12]]])\n"
          ]
        }
      ]
    },
    {
      "cell_type": "markdown",
      "source": [
        "### 5.2 Subtraction"
      ],
      "metadata": {
        "id": "_Mb6dZIM_0si"
      }
    },
    {
      "cell_type": "code",
      "source": [],
      "metadata": {
        "id": "To6MDikTAAJU"
      },
      "execution_count": null,
      "outputs": []
    },
    {
      "cell_type": "markdown",
      "source": [
        "### 5.3 Multiplication"
      ],
      "metadata": {
        "id": "hzu3_mTY_3PD"
      }
    },
    {
      "cell_type": "code",
      "source": [],
      "metadata": {
        "id": "30bsrnmBAA-e"
      },
      "execution_count": null,
      "outputs": []
    }
  ]
}