{
  "nbformat": 4,
  "nbformat_minor": 0,
  "metadata": {
    "colab": {
      "provenance": [],
      "authorship_tag": "ABX9TyMIiS1ZHskvnMGoFBiOqRYb",
      "include_colab_link": true
    },
    "kernelspec": {
      "name": "python3",
      "display_name": "Python 3"
    },
    "language_info": {
      "name": "python"
    },
    "accelerator": "GPU",
    "gpuClass": "standard"
  },
  "cells": [
    {
      "cell_type": "markdown",
      "metadata": {
        "id": "view-in-github",
        "colab_type": "text"
      },
      "source": [
        "<a href=\"https://colab.research.google.com/github/marvelxcodes/My-ML-Documentation/blob/main/PyTorch.ipynb\" target=\"_parent\"><img src=\"https://colab.research.google.com/assets/colab-badge.svg\" alt=\"Open In Colab\"/></a>"
      ]
    },
    {
      "cell_type": "markdown",
      "source": [
        "# **My Pytorch Notebook**"
      ],
      "metadata": {
        "id": "QZFcJBy-_QAG"
      }
    },
    {
      "cell_type": "markdown",
      "source": [
        "## 1. Importing Required Packages"
      ],
      "metadata": {
        "id": "WSK1pg73_jvo"
      }
    },
    {
      "cell_type": "code",
      "execution_count": null,
      "metadata": {
        "colab": {
          "base_uri": "https://localhost:8080/"
        },
        "id": "rRVZYe8n-f8L",
        "outputId": "f7ba8976-0ab7-432d-89d6-1d49f1cb963c"
      },
      "outputs": [
        {
          "output_type": "stream",
          "name": "stdout",
          "text": [
            "1.13.0+cu116\n"
          ]
        }
      ],
      "source": [
        "import torch\n",
        "import pandas as pd\n",
        "import numpy as np\n",
        "import matplotlib.pyplot as plt\n",
        "\n",
        "print(torch.__version__) # Prints version of PyTorch"
      ]
    },
    {
      "cell_type": "markdown",
      "source": [
        "## 2. Introduction to Tensors"
      ],
      "metadata": {
        "id": "MgBolN9nx1xR"
      }
    },
    {
      "cell_type": "code",
      "source": [
        "# Scalar\n",
        "scalar = torch.tensor(46)\n",
        "print(scalar)\n",
        "print(scalar.item())\n",
        "print(scalar.ndim)\n",
        "print(scalar.ndimension())"
      ],
      "metadata": {
        "id": "nxShuHnw_kXI",
        "colab": {
          "base_uri": "https://localhost:8080/"
        },
        "outputId": "f84ee6c8-9ff2-436b-bb95-9bebae1d700b"
      },
      "execution_count": null,
      "outputs": [
        {
          "output_type": "stream",
          "name": "stdout",
          "text": [
            "tensor(46)\n",
            "0\n",
            "0\n",
            "46\n"
          ]
        }
      ]
    },
    {
      "cell_type": "code",
      "source": [
        "# Vector\n",
        "vector = torch.tensor([1, 2])\n",
        "print(vector)\n",
        "print(vector.ndim)\n",
        "print(vector.ndimension())"
      ],
      "metadata": {
        "colab": {
          "base_uri": "https://localhost:8080/"
        },
        "id": "_We_Ygnmx1Vl",
        "outputId": "f14b442d-6d23-4401-e225-1d373872909f"
      },
      "execution_count": null,
      "outputs": [
        {
          "output_type": "stream",
          "name": "stdout",
          "text": [
            "tensor([1, 2])\n",
            "1\n",
            "1\n"
          ]
        }
      ]
    }
  ]
}