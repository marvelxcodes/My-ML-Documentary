{
  "nbformat": 4,
  "nbformat_minor": 0,
  "metadata": {
    "colab": {
      "provenance": [],
      "authorship_tag": "ABX9TyPBJjDGycVe1mmkVAF/ux71",
      "include_colab_link": true
    },
    "kernelspec": {
      "name": "python3",
      "display_name": "Python 3"
    },
    "language_info": {
      "name": "python"
    },
    "gpuClass": "standard"
  },
  "cells": [
    {
      "cell_type": "markdown",
      "metadata": {
        "id": "view-in-github",
        "colab_type": "text"
      },
      "source": [
        "<a href=\"https://colab.research.google.com/github/marvelxcodes/My-ML-Documentation/blob/main/PyTorch.ipynb\" target=\"_parent\"><img src=\"https://colab.research.google.com/assets/colab-badge.svg\" alt=\"Open In Colab\"/></a>"
      ]
    },
    {
      "cell_type": "markdown",
      "source": [
        "# **My Pytorch Notebook**"
      ],
      "metadata": {
        "id": "QZFcJBy-_QAG"
      }
    },
    {
      "cell_type": "markdown",
      "source": [
        "## 1. Importing Required Packages"
      ],
      "metadata": {
        "id": "WSK1pg73_jvo"
      }
    },
    {
      "cell_type": "code",
      "execution_count": 3,
      "metadata": {
        "colab": {
          "base_uri": "https://localhost:8080/"
        },
        "id": "rRVZYe8n-f8L",
        "outputId": "31d089e1-794c-4f66-baca-3d31a1377d53"
      },
      "outputs": [
        {
          "output_type": "stream",
          "name": "stdout",
          "text": [
            "1.13.0+cu116\n"
          ]
        }
      ],
      "source": [
        "import torch\n",
        "import pandas as pd\n",
        "import numpy as np\n",
        "import matplotlib.pyplot as plt\n",
        "\n",
        "print(torch.__version__) # Prints version of PyTorch"
      ]
    },
    {
      "cell_type": "markdown",
      "source": [
        "## 2. Creating Tensors"
      ],
      "metadata": {
        "id": "MgBolN9nx1xR"
      }
    },
    {
      "cell_type": "markdown",
      "source": [
        "### 2.1 Creating Tensors - `torch.tensor()`"
      ],
      "metadata": {
        "id": "syhQyEoQJmlI"
      }
    },
    {
      "cell_type": "code",
      "source": [
        "# Scalar - 0 dimension\n",
        "scalar = torch.tensor(46)\n",
        "print(scalar)\n",
        "print(scalar.item())\n",
        "print(scalar.ndim)\n",
        "print(scalar.shape)\n",
        "print(scalar.dtype)"
      ],
      "metadata": {
        "id": "nxShuHnw_kXI",
        "colab": {
          "base_uri": "https://localhost:8080/"
        },
        "outputId": "5847fb38-1e59-4bdd-8c13-3802ab0ae8e5"
      },
      "execution_count": 20,
      "outputs": [
        {
          "output_type": "stream",
          "name": "stdout",
          "text": [
            "tensor(46)\n",
            "46\n",
            "0\n",
            "torch.Size([])\n",
            "torch.int64\n"
          ]
        }
      ]
    },
    {
      "cell_type": "code",
      "source": [
        "# Vector - 1 dimension\n",
        "vector = torch.tensor([1, 2])\n",
        "print(vector)\n",
        "print(vector.ndim)\n",
        "print(vector.shape)"
      ],
      "metadata": {
        "colab": {
          "base_uri": "https://localhost:8080/"
        },
        "id": "_We_Ygnmx1Vl",
        "outputId": "7f8bf09f-a426-421f-e580-ae1b9d5f8640"
      },
      "execution_count": 9,
      "outputs": [
        {
          "output_type": "stream",
          "name": "stdout",
          "text": [
            "tensor([1, 2])\n",
            "1\n",
            "torch.Size([2])\n"
          ]
        }
      ]
    },
    {
      "cell_type": "code",
      "source": [
        "# Matrix - 2 dimension\n",
        "MATRIX = torch.tensor([[1, 2, 3],\n",
        "                       [4, 5, 6],\n",
        "                       [7, 8, 9]])\n",
        "print(MATRIX)\n",
        "print(MATRIX.ndim)\n",
        "print(MATRIX.shape)"
      ],
      "metadata": {
        "colab": {
          "base_uri": "https://localhost:8080/"
        },
        "id": "t924ZyHWGzZj",
        "outputId": "0ffa8597-a040-4c39-e9de-ef89274abcc7"
      },
      "execution_count": 13,
      "outputs": [
        {
          "output_type": "stream",
          "name": "stdout",
          "text": [
            "tensor([[1, 2, 3],\n",
            "        [4, 5, 6],\n",
            "        [7, 8, 9]])\n",
            "2\n",
            "torch.Size([3, 3])\n"
          ]
        }
      ]
    },
    {
      "cell_type": "code",
      "source": [
        "# Tensor - 3 dimension\n",
        "TENSOR = torch.tensor([[[1, 2, 3],\n",
        "                       [4, 5, 6],\n",
        "                       [7, 8, 9]]])\n",
        "print(TENSOR)\n",
        "print(TENSOR.ndim)\n",
        "print(TENSOR.shape)\n",
        "print(TENSOR.dtype)"
      ],
      "metadata": {
        "colab": {
          "base_uri": "https://localhost:8080/"
        },
        "id": "155OoApKHlyE",
        "outputId": "44b485bd-29ba-4c34-c97d-4a5c698f8537"
      },
      "execution_count": 21,
      "outputs": [
        {
          "output_type": "stream",
          "name": "stdout",
          "text": [
            "tensor([[[1, 2, 3],\n",
            "         [4, 5, 6],\n",
            "         [7, 8, 9]]])\n",
            "3\n",
            "torch.Size([1, 3, 3])\n",
            "torch.int64\n"
          ]
        }
      ]
    },
    {
      "cell_type": "markdown",
      "source": [
        "### 2.2 Random Tensors - `torch.rand()`"
      ],
      "metadata": {
        "id": "2yWCgk7CJ5z6"
      }
    },
    {
      "cell_type": "code",
      "source": [
        "RANDOM_TENSOR = torch.rand(4, 3)\n",
        "print(RANDOM_TENSOR)\n",
        "print(RANDOM_TENSOR.ndim)\n",
        "print(RANDOM_TENSOR.shape)"
      ],
      "metadata": {
        "colab": {
          "base_uri": "https://localhost:8080/"
        },
        "id": "cs7lkTNRKSC2",
        "outputId": "95886ba4-c018-42c9-8057-fa9cba09ee7f"
      },
      "execution_count": 13,
      "outputs": [
        {
          "output_type": "stream",
          "name": "stdout",
          "text": [
            "tensor([[0.8115, 0.9486, 0.5309],\n",
            "        [0.4378, 0.3579, 0.4711],\n",
            "        [0.1471, 0.9804, 0.3021],\n",
            "        [0.7714, 0.6936, 0.8398]])\n",
            "2\n",
            "torch.Size([4, 3])\n"
          ]
        }
      ]
    },
    {
      "cell_type": "markdown",
      "source": [
        "### 2.3 Tensors with zeros - `torch.zeros()`"
      ],
      "metadata": {
        "id": "VBt-xlnINiB8"
      }
    },
    {
      "cell_type": "code",
      "source": [
        "zeros = torch.zeros(3, 4)\n",
        "print(zeros)"
      ],
      "metadata": {
        "colab": {
          "base_uri": "https://localhost:8080/"
        },
        "id": "PcjRivhRK4RO",
        "outputId": "29c6b8c9-d69b-4b52-be6b-60bdefbc8d1f"
      },
      "execution_count": 15,
      "outputs": [
        {
          "output_type": "stream",
          "name": "stdout",
          "text": [
            "tensor([[0., 0., 0., 0.],\n",
            "        [0., 0., 0., 0.],\n",
            "        [0., 0., 0., 0.]])\n"
          ]
        }
      ]
    },
    {
      "cell_type": "markdown",
      "source": [
        "### 2.4 Tensors with ones - `torch.ones()`"
      ],
      "metadata": {
        "id": "aHvcAqWQN-ej"
      }
    },
    {
      "cell_type": "code",
      "source": [
        "ones = torch.ones(3, 4)\n",
        "print(ones)\n",
        "print(ones.dtype)"
      ],
      "metadata": {
        "colab": {
          "base_uri": "https://localhost:8080/"
        },
        "id": "J84-h-N4OOlL",
        "outputId": "206d2d16-e080-4be8-c762-5a99ab558980"
      },
      "execution_count": 23,
      "outputs": [
        {
          "output_type": "stream",
          "name": "stdout",
          "text": [
            "tensor([[1., 1., 1., 1.],\n",
            "        [1., 1., 1., 1.],\n",
            "        [1., 1., 1., 1.]])\n",
            "torch.float32\n"
          ]
        }
      ]
    },
    {
      "cell_type": "markdown",
      "source": [
        "### 2.5 Range of Tensors - `torch.arange()`"
      ],
      "metadata": {
        "id": "aq08OV5ZTBAz"
      }
    },
    {
      "cell_type": "code",
      "source": [
        "TENSOR_RANGE = torch.arange(1, 11, 2)\n",
        "print(TENSOR_RANGE)"
      ],
      "metadata": {
        "colab": {
          "base_uri": "https://localhost:8080/"
        },
        "id": "UbwAPpLhUToQ",
        "outputId": "6e29dead-78c4-4e24-f0bc-d5eca56735bc"
      },
      "execution_count": 25,
      "outputs": [
        {
          "output_type": "stream",
          "name": "stdout",
          "text": [
            "tensor([1, 3, 5, 7, 9])\n"
          ]
        }
      ]
    },
    {
      "cell_type": "markdown",
      "source": [
        "### 2.6 Tensors Like - **torch.zeros_like/ones_like**"
      ],
      "metadata": {
        "id": "jwzTe8RXVYRQ"
      }
    },
    {
      "cell_type": "code",
      "source": [
        "ZEROS_LIKE = torch.zeros_like(TENSOR_RANGE)\n",
        "print(ZEROS_LIKE)"
      ],
      "metadata": {
        "colab": {
          "base_uri": "https://localhost:8080/"
        },
        "id": "vBTojosEVuKf",
        "outputId": "30d22b63-80e9-4334-ee49-a0a2802705b1"
      },
      "execution_count": 27,
      "outputs": [
        {
          "output_type": "stream",
          "name": "stdout",
          "text": [
            "tensor([0, 0, 0, 0, 0])\n"
          ]
        }
      ]
    },
    {
      "cell_type": "markdown",
      "source": [
        "## Tensor Datatypes"
      ],
      "metadata": {
        "id": "ZmlLfA3IXtuy"
      }
    },
    {
      "cell_type": "markdown",
      "source": [
        "### 3.1 Creating Tensor with explicit datatype - `torch.tensor(dtype=torch.float32)`"
      ],
      "metadata": {
        "id": "8Gl-yPUtd7xI"
      }
    },
    {
      "cell_type": "code",
      "source": [
        "float32_tensor = torch.tensor([[1, 2, 3],\n",
        "                               [4, 5, 6],\n",
        "                               [7, 8, 9]],\n",
        "                              dtype=torch.float32,\n",
        "                              device=None, # cpu / cuda(gpu)\n",
        "                              requires_grad=False)\n",
        "print(float32_tensor)\n",
        "print(float32_tensor.dtype)"
      ],
      "metadata": {
        "colab": {
          "base_uri": "https://localhost:8080/"
        },
        "id": "-dajpdneXy1G",
        "outputId": "41a8aa98-8437-4813-a3c2-75c858a5247b"
      },
      "execution_count": 32,
      "outputs": [
        {
          "output_type": "stream",
          "name": "stdout",
          "text": [
            "tensor([[1., 2., 3.],\n",
            "        [4., 5., 6.],\n",
            "        [7., 8., 9.]])\n",
            "torch.float32\n"
          ]
        }
      ]
    },
    {
      "cell_type": "markdown",
      "source": [
        "### 3.2 Type Conversion - `torch.tensor().type(torch.float16)`"
      ],
      "metadata": {
        "id": "_aQxichReQFO"
      }
    },
    {
      "cell_type": "code",
      "source": [
        "float16_tensor = float32_tensor.type(torch.float16)\n",
        "print(float16_tensor.dtype)"
      ],
      "metadata": {
        "colab": {
          "base_uri": "https://localhost:8080/"
        },
        "id": "hxm-4BrReg2R",
        "outputId": "cb25e6cd-c7bb-46ca-c861-e29e1ad5c270"
      },
      "execution_count": 35,
      "outputs": [
        {
          "output_type": "stream",
          "name": "stdout",
          "text": [
            "torch.float16\n"
          ]
        }
      ]
    }
  ]
}