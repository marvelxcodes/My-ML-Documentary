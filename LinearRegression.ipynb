{
  "nbformat": 4,
  "nbformat_minor": 0,
  "metadata": {
    "colab": {
      "provenance": [],
      "authorship_tag": "ABX9TyNFx/kenDbzcAzZbZzFJsj0",
      "include_colab_link": true
    },
    "kernelspec": {
      "name": "python3",
      "display_name": "Python 3"
    },
    "language_info": {
      "name": "python"
    },
    "gpuClass": "standard"
  },
  "cells": [
    {
      "cell_type": "markdown",
      "metadata": {
        "id": "view-in-github",
        "colab_type": "text"
      },
      "source": [
        "<a href=\"https://colab.research.google.com/github/marvelxcodes/My-ML-Documentary/blob/main/LinearRegression.ipynb\" target=\"_parent\"><img src=\"https://colab.research.google.com/assets/colab-badge.svg\" alt=\"Open In Colab\"/></a>"
      ]
    },
    {
      "cell_type": "markdown",
      "source": [
        "# **TensorFlow**"
      ],
      "metadata": {
        "id": "2zVbY4pRx3ip"
      }
    },
    {
      "cell_type": "markdown",
      "source": [
        "**Linear Regression with Students Dataset**"
      ],
      "metadata": {
        "id": "y6_W-4LSTpy_"
      }
    },
    {
      "cell_type": "markdown",
      "source": [
        "## Importing Required Modules"
      ],
      "metadata": {
        "id": "_4in8RSl7QuS"
      }
    },
    {
      "cell_type": "code",
      "execution_count": null,
      "metadata": {
        "id": "ezEEJgqnxvcb"
      },
      "outputs": [],
      "source": [
        "import tensorflow as tf\n",
        "import numpy as np\n",
        "import sklearn as sk\n",
        "import pandas as pd\n",
        "from sklearn import linear_model, model_selection\n",
        "from sklearn.utils import shuffle"
      ]
    },
    {
      "cell_type": "markdown",
      "source": [
        "## Linear Regression in sample dataset - Student"
      ],
      "metadata": {
        "id": "Py7NMjpo7bqN"
      }
    },
    {
      "cell_type": "code",
      "source": [
        "# Extracting data from csv with Pandas\n",
        "data = pd.read_csv(\"/content/student.csv\", sep=\";\")\n",
        "data = data[['G1', 'G2', 'G3', 'studytime', 'failures', 'absences']]\n",
        "print(data.head())"
      ],
      "metadata": {
        "colab": {
          "base_uri": "https://localhost:8080/"
        },
        "id": "x9LmrlZL7tkV",
        "outputId": "757fcc7c-5602-4def-ecf0-a78432d3ecb4"
      },
      "execution_count": null,
      "outputs": [
        {
          "output_type": "stream",
          "name": "stdout",
          "text": [
            "   G1  G2  G3  studytime  failures  absences\n",
            "0   5   6   6          2         0         6\n",
            "1   5   5   6          2         0         4\n",
            "2   7   8  10          2         3        10\n",
            "3  15  14  15          3         0         2\n",
            "4   6  10  10          2         0         4\n"
          ]
        }
      ]
    },
    {
      "cell_type": "markdown",
      "source": [],
      "metadata": {
        "id": "owUs45bt8mgu"
      }
    },
    {
      "cell_type": "code",
      "source": [
        "# Converting dataset labels and features to numpy arrays\n",
        "predict = \"G3\"\n",
        "x = np.array(data.drop([predict], 1))\n",
        "y = np.array(data[predict])"
      ],
      "metadata": {
        "colab": {
          "base_uri": "https://localhost:8080/"
        },
        "id": "FkL_0Tki8zfM",
        "outputId": "a9aca7f2-b84c-43b7-c84a-aea8e2fdd0a5"
      },
      "execution_count": null,
      "outputs": [
        {
          "output_type": "stream",
          "name": "stderr",
          "text": [
            "<ipython-input-6-39c532490215>:3: FutureWarning: In a future version of pandas all arguments of DataFrame.drop except for the argument 'labels' will be keyword-only\n",
            "  x = np.array(data.drop([predict], 1))\n"
          ]
        }
      ]
    },
    {
      "cell_type": "code",
      "source": [
        "linear = linear_model.LinearRegression()\n",
        "# Finding best accuracy\n",
        "\n",
        "best, i = 0, 0\n",
        "\n",
        "while i < 1000:\n",
        "  x_train, x_test, y_train, y_test = model_selection.train_test_split(x, y,test_size=0.1)\n",
        "  linear.fit(x_train, y_train)\n",
        "  accuracy = linear.score(x_test, y_test)\n",
        "\n",
        "  if best < accuracy:\n",
        "    best = accuracy\n",
        "  i+=1\n",
        "\n",
        "print(f\"Best Accuracy: {best}\")\n",
        "\n"
      ],
      "metadata": {
        "id": "gc5XOwRV9zLu"
      },
      "execution_count": null,
      "outputs": []
    }
  ]
}