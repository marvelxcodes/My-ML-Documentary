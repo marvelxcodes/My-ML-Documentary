{
  "nbformat": 4,
  "nbformat_minor": 0,
  "metadata": {
    "colab": {
      "provenance": [],
      "authorship_tag": "ABX9TyM83j4iqAY/F0ZY3I69ylcJ",
      "include_colab_link": true
    },
    "kernelspec": {
      "name": "python3",
      "display_name": "Python 3"
    },
    "language_info": {
      "name": "python"
    },
    "accelerator": "TPU",
    "gpuClass": "standard"
  },
  "cells": [
    {
      "cell_type": "markdown",
      "metadata": {
        "id": "view-in-github",
        "colab_type": "text"
      },
      "source": [
        "<a href=\"https://colab.research.google.com/github/marvelxcodes/My-ML-Documentary/blob/main/ClothingNamewithComputerVision.ipynb\" target=\"_parent\"><img src=\"https://colab.research.google.com/assets/colab-badge.svg\" alt=\"Open In Colab\"/></a>"
      ]
    },
    {
      "cell_type": "markdown",
      "source": [
        "# **Finding name of the clothing with Fashion MNIST Dataset**"
      ],
      "metadata": {
        "id": "Wyts1xjLlsUV"
      }
    },
    {
      "cell_type": "code",
      "source": [
        "# Installing tensorflow_datasets\n",
        "!pip install -U tensorflow_datasets"
      ],
      "metadata": {
        "id": "BTwt-k22rz16"
      },
      "execution_count": null,
      "outputs": []
    },
    {
      "cell_type": "code",
      "execution_count": 1,
      "metadata": {
        "colab": {
          "base_uri": "https://localhost:8080/"
        },
        "id": "sqhe4TjSlLsw",
        "outputId": "aa7e2d22-deec-4945-8bf5-e492f3cba990"
      },
      "outputs": [
        {
          "output_type": "stream",
          "name": "stdout",
          "text": [
            "Current TensorFlow Version: 2.11.0\n"
          ]
        }
      ],
      "source": [
        "# Importing Required Modules\n",
        "from __future__ import absolute_import, division, print_function\n",
        "\n",
        "import tensorflow as tf\n",
        "from tensorflow import keras\n",
        "tf.compat.v1.logging.set_verbosity(tf.compat.v1.logging.ERROR)\n",
        "\n",
        "import math\n",
        "import numpy as np\n",
        "import matplotlib.pyplot as plt\n",
        "\n",
        "import tqdm\n",
        "import tqdm.auto\n",
        "tqdm.tqdm = tqdm.auto.tqdm\n",
        "\n",
        "print(f\"Current TensorFlow Version: {tf.__version__}\")\n"
      ]
    },
    {
      "cell_type": "markdown",
      "source": [
        "## ****"
      ],
      "metadata": {
        "id": "EPimRfYWmWJl"
      }
    }
  ]
}